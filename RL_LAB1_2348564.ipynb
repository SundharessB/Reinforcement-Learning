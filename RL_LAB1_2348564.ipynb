{
  "nbformat": 4,
  "nbformat_minor": 0,
  "metadata": {
    "colab": {
      "provenance": [],
      "authorship_tag": "ABX9TyNE2qwfaf7aLFmUOVrQ/rMH",
      "include_colab_link": true
    },
    "kernelspec": {
      "name": "python3",
      "display_name": "Python 3"
    },
    "language_info": {
      "name": "python"
    }
  },
  "cells": [
    {
      "cell_type": "markdown",
      "metadata": {
        "id": "view-in-github",
        "colab_type": "text"
      },
      "source": [
        "<a href=\"https://colab.research.google.com/github/SundharessB/Reinforcement-Learning/blob/main/RL_LAB1_2348564.ipynb\" target=\"_parent\"><img src=\"https://colab.research.google.com/assets/colab-badge.svg\" alt=\"Open In Colab\"/></a>"
      ]
    },
    {
      "cell_type": "markdown",
      "source": [
        "#**Lab Exercise :1**\n",
        "\n",
        "#**Implement Multi-Armed Bandit Problem from Scratch in Python**\n"
      ],
      "metadata": {
        "id": "XVW-4wl07xQy"
      }
    },
    {
      "cell_type": "markdown",
      "source": [
        "##importing necessary libraries\n",
        "\n"
      ],
      "metadata": {
        "id": "uzklSE2B8Fs3"
      }
    },
    {
      "cell_type": "code",
      "execution_count": null,
      "metadata": {
        "id": "oEHms3Xv-oOL"
      },
      "outputs": [],
      "source": [
        "import numpy as np\n",
        "import random as rnd\n",
        "import matplotlib.pyplot as plt"
      ]
    },
    {
      "cell_type": "markdown",
      "source": [
        "## class represents a multi-armed bandit problem solver using the epsilon-greedy strategy"
      ],
      "metadata": {
        "id": "FHa6i8lX82Bb"
      }
    },
    {
      "cell_type": "code",
      "source": [
        "class MultiArmBandit_Greedy:\n",
        "    def __init__(self, arms, epsilon):\n",
        "        self.arms = arms\n",
        "        self.epsilon = epsilon\n",
        "        self.counts = np.zeros(arms)\n",
        "        self.values = np.zeros(arms)\n",
        "\n",
        "\n",
        "    def epsilon_greedy_arm_choser(self):\n",
        "        if np.random.rand() < self.epsilon:\n",
        "             return np.random.randint(0, self.arms)\n",
        "        else:\n",
        "            return np.argmax(self.values)\n",
        "    def probability_update(self,arm_chosen, reward):\n",
        "        self.counts[arm_chosen] +=1\n",
        "        count_val = self.counts[arm_chosen]\n",
        "        prob_val = self.values[arm_chosen]\n",
        "        new_val = prob_val + (1 / count_val) * (reward - prob_val)\n",
        "        self.values[arm_chosen] = new_val"
      ],
      "metadata": {
        "id": "rZ3Tsxpm84Mw"
      },
      "execution_count": 1,
      "outputs": []
    }
  ]
}