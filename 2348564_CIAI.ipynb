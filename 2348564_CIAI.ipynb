{
  "nbformat": 4,
  "nbformat_minor": 0,
  "metadata": {
    "colab": {
      "provenance": [],
      "authorship_tag": "ABX9TyOd/WgtOeR7nZsWw6ErGDQC",
      "include_colab_link": true
    },
    "kernelspec": {
      "name": "python3",
      "display_name": "Python 3"
    },
    "language_info": {
      "name": "python"
    }
  },
  "cells": [
    {
      "cell_type": "markdown",
      "metadata": {
        "id": "view-in-github",
        "colab_type": "text"
      },
      "source": [
        "<a href=\"https://colab.research.google.com/github/SundharessB/Reinforcement-Learning/blob/main/2348564_CIAI.ipynb\" target=\"_parent\"><img src=\"https://colab.research.google.com/assets/colab-badge.svg\" alt=\"Open In Colab\"/></a>"
      ]
    },
    {
      "cell_type": "markdown",
      "source": [
        "##**Importing the libraries**"
      ],
      "metadata": {
        "id": "-uw3clxkn9ks"
      }
    },
    {
      "cell_type": "code",
      "source": [
        "import numpy as np\n",
        "import matplotlib.pyplot as plt"
      ],
      "metadata": {
        "id": "et07SHltoImu"
      },
      "execution_count": 5,
      "outputs": []
    },
    {
      "cell_type": "markdown",
      "source": [
        "# **Epsilon-Greedy Algorithm**\n"
      ],
      "metadata": {
        "id": "-8dP_BZRodsI"
      }
    },
    {
      "cell_type": "code",
      "source": [
        "def random_selection(machine_count, trial_count, exploration_rate):\n",
        "    slot_rewards = np.zeros(machine_count)\n",
        "    slot_pulls = np.zeros(machine_count)\n",
        "    actual_rewards = np.random.rand(machine_count)  # Random true reward probabilities\n",
        "    total_earned = 0\n",
        "\n",
        "    for trial in range(trial_count):\n",
        "        if np.random.rand() < exploration_rate:\n",
        "            chosen_slot = np.random.randint(0, machine_count)\n",
        "        else:\n",
        "            chosen_slot = np.argmax(slot_rewards / (slot_pulls + 1e-5))\n",
        "\n",
        "        earned = np.random.binomial(1, actual_rewards[chosen_slot])\n",
        "        slot_pulls[chosen_slot] += 1\n",
        "        slot_rewards[chosen_slot] += earned\n",
        "        total_earned += earned\n",
        "\n",
        "    return slot_rewards, slot_pulls, total_earned"
      ],
      "metadata": {
        "id": "B3q3kl_dqGAQ"
      },
      "execution_count": 8,
      "outputs": []
    },
    {
      "cell_type": "markdown",
      "source": [
        "# **UCB Algorithm**\n"
      ],
      "metadata": {
        "id": "6YSBkIKFqenz"
      }
    },
    {
      "cell_type": "code",
      "source": [
        "def confidence_interval(machine_count, trial_count):\n",
        "    slot_rewards = np.zeros(machine_count)\n",
        "    slot_pulls = np.zeros(machine_count)\n",
        "    actual_rewards = np.random.rand(machine_count)\n",
        "    total_earned = 0\n",
        "\n",
        "    for slot in range(machine_count):\n",
        "        earned = np.random.binomial(1, actual_rewards[slot])\n",
        "        slot_pulls[slot] += 1\n",
        "        slot_rewards[slot] += earned\n",
        "        total_earned += earned\n",
        "\n",
        "    for trial in range(machine_count, trial_count):\n",
        "        ucb_values = slot_rewards / slot_pulls + np.sqrt(2 * np.log(trial + 1) / slot_pulls)\n",
        "        chosen_slot = np.argmax(ucb_values)\n",
        "        earned = np.random.binomial(1, actual_rewards[chosen_slot])\n",
        "\n",
        "        slot_pulls[chosen_slot] += 1\n",
        "        slot_rewards[chosen_slot] += earned\n",
        "        total_earned += earned\n",
        "\n",
        "    return slot_rewards, slot_pulls, total_earned"
      ],
      "metadata": {
        "id": "DEWEKO4fqlnE"
      },
      "execution_count": 9,
      "outputs": []
    },
    {
      "cell_type": "markdown",
      "source": [
        "# **Parameters**\n"
      ],
      "metadata": {
        "id": "z7RpUksIsCGS"
      }
    },
    {
      "cell_type": "code",
      "source": [
        "total_slots = 3\n",
        "total_trials = 100\n",
        "explore_rate = 0.1\n"
      ],
      "metadata": {
        "id": "oBJzylCpqt1U"
      },
      "execution_count": 27,
      "outputs": []
    },
    {
      "cell_type": "markdown",
      "source": [
        "#**Running both the algorithm**"
      ],
      "metadata": {
        "id": "S812WlDpsGUJ"
      }
    },
    {
      "cell_type": "code",
      "source": [
        "rewards_random, pulls_random, total_random_rewards = random_selection(total_slots, total_trials, explore_rate)\n",
        "rewards_confidence, pulls_confidence, total_confidence_rewards = confidence_interval(total_slots, total_trials)"
      ],
      "metadata": {
        "id": "UPPJfv-Qq6-Y"
      },
      "execution_count": 28,
      "outputs": []
    },
    {
      "cell_type": "markdown",
      "source": [
        "# **Results comparison**\n"
      ],
      "metadata": {
        "id": "BfKJjgcSsOz6"
      }
    },
    {
      "cell_type": "code",
      "source": [
        "comparison_results = {\n",
        "    \"epsilon_greedy\": {\n",
        "        \"Total Reward\": total_random_rewards,\n",
        "        \"Average Rewards per Slot\": rewards_random / (pulls_random + 1e-5),\n",
        "        \"Slot Pulls\": pulls_random\n",
        "    },\n",
        "\n",
        "    \"ucb\": {\n",
        "        \"Total Reward\": total_confidence_rewards,\n",
        "        \"Average Rewards per Slot\": rewards_confidence / (pulls_confidence + 1e-5),\n",
        "        \"Slot Pulls\": pulls_confidence\n",
        "    }\n",
        "}\n"
      ],
      "metadata": {
        "id": "t00BiewlrGoo"
      },
      "execution_count": 29,
      "outputs": []
    },
    {
      "cell_type": "code",
      "source": [
        "comparison_results"
      ],
      "metadata": {
        "colab": {
          "base_uri": "https://localhost:8080/"
        },
        "id": "pnMth4rTr2wN",
        "outputId": "99520722-84cd-45f0-d2f6-280daa579f63"
      },
      "execution_count": 30,
      "outputs": [
        {
          "output_type": "execute_result",
          "data": {
            "text/plain": [
              "{'epsilon_greedy': {'Total Reward': 53,\n",
              "  'Average Rewards per Slot': array([0.18181802, 0.        , 0.58620683]),\n",
              "  'Slot Pulls': array([11.,  2., 87.])},\n",
              " 'ucb': {'Total Reward': 90,\n",
              "  'Average Rewards per Slot': array([0.84374974, 0.        , 0.99999984]),\n",
              "  'Slot Pulls': array([32.,  5., 63.])}}"
            ]
          },
          "metadata": {},
          "execution_count": 30
        }
      ]
    },
    {
      "cell_type": "markdown",
      "source": [
        "#**inference**\n",
        "**epsilon_greedy** : the algorithm exploited slot 3 excessivley while barley exploring the other slots.this leads to a biased strategy where the algorithm is stuck in suboptimal behavior\n",
        "\n",
        "**ucb**:ucb explored slot 1 and 3 more consistently leading to better understanding the reward probablities\n"
      ],
      "metadata": {
        "id": "7SVUP0v8x7D_"
      }
    },
    {
      "cell_type": "markdown",
      "source": [
        "# **Visualizing the total rewards**\n"
      ],
      "metadata": {
        "id": "evJ2hgOVtgca"
      }
    },
    {
      "cell_type": "code",
      "source": [
        "algorithms = ['epsilon_greedy', 'ucb']\n",
        "total_rewards = [comparison_results[alg]['Total Reward'] for alg in algorithms]\n",
        "\n",
        "plt.figure(figsize=(8, 6))\n",
        "plt.bar(algorithms, total_rewards, color=['blue', 'green'])\n",
        "plt.title('Total Rewards Comparison')\n",
        "plt.ylabel('Total Rewards')\n",
        "plt.show()\n"
      ],
      "metadata": {
        "colab": {
          "base_uri": "https://localhost:8080/",
          "height": 545
        },
        "id": "tt01vVpds_SF",
        "outputId": "d1647e11-1ee0-4544-8086-aa5235216d8c"
      },
      "execution_count": 33,
      "outputs": [
        {
          "output_type": "display_data",
          "data": {
            "text/plain": [
              "<Figure size 800x600 with 1 Axes>"
            ],
            "image/png": "[encoded data removed]"
          },
          "metadata": {}
        }
      ]
    },
    {
      "cell_type": "markdown",
      "source": [
        "#**Conclusion**\n"
      ],
      "metadata": {
        "id": "P_sxm9DQwhww"
      }
    },
    {
      "cell_type": "markdown",
      "source": [
        "Upper Confidence Bound algorithm performs better than epsilon greedy in the given scenario.this proves UCB's exploration and exploitation strategy was more effective in identifying high reward slots."
      ],
      "metadata": {
        "id": "vK0lNJaSwuhz"
      }
    }
  ]
}